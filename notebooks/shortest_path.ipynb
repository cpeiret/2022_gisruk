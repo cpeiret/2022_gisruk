{
 "cells": [
  {
   "cell_type": "code",
   "execution_count": 1,
   "metadata": {},
   "outputs": [],
   "source": [
    "# import packages\n",
    "import geopandas as gpd\n",
    "import osmnx as ox\n",
    "import momepy\n",
    "import pandana as pdna\n",
    "import pandas as pd\n",
    "import numpy as np\n",
    "import networkx as nx\n",
    "\n",
    "from scipy.spatial import cKDTree\n",
    "from shapely.geometry import Point\n",
    "\n",
    "from shapely.geometry import box"
   ]
  },
  {
   "cell_type": "code",
   "execution_count": 6,
   "metadata": {},
   "outputs": [],
   "source": [
    "# load data\n",
    "file_path = 'C:/Users/b9066009/Documents/PhD/conferences/2022_GISRUK/gisruk_2022/data/gisruk_2022.gpkg'\n",
    "\n",
    "od = gpd.read_file(file_path, layer='od_extended')\n",
    "walk_streets = gpd.read_file(file_path, layer='walk_streets')"
   ]
  },
  {
   "cell_type": "code",
   "execution_count": 8,
   "metadata": {},
   "outputs": [
    {
     "name": "stderr",
     "output_type": "stream",
     "text": [
      "C:\\Users\\b9066009\\AppData\\Local\\Temp\\ipykernel_23412\\2935199117.py:10: FutureWarning: Currently, index_parts defaults to True, but in the future, it will default to False to be consistent with Pandas. Use `index_parts=True` to keep the current behavior and True/False to silence the warning.\n",
      "  walk_streets.explode() # remove multipart rows\n"
     ]
    }
   ],
   "source": [
    "# get node geometry\n",
    "# street network\n",
    "walk_streets = walk_streets[[\"geometry\", \"from\", \"to\", \"length\"]] # clean columns\n",
    "walk_streets = walk_streets.to_crs(27700) # set crs\n",
    "\n",
    "## generate pandana network\n",
    "# nodes and edges for walk network\n",
    "nodes_walk, edges_walk = momepy.nx_to_gdf( # convert network to gdf\n",
    "    momepy.gdf_to_nx( # convert to nx graph\n",
    "        walk_streets.explode() # remove multipart rows\n",
    "    )\n",
    ")\n",
    "nodes_walk = nodes_walk.set_index('nodeID') # set index\n",
    "\n",
    "# generate walk pandana network\n",
    "walk_streets_pdna = pdna.Network( \n",
    "    nodes_walk.geometry.x,\n",
    "    nodes_walk.geometry.y,\n",
    "    edges_walk['node_start'], # set origins\n",
    "    edges_walk['node_end'], # set destinations\n",
    "    edges_walk[['mm_len']] # set edge length\n",
    ")\n",
    "\n",
    "od_nodes = pd.merge(od, nodes_walk, left_on='nodeID', right_on='nodeID')\n",
    "od_nodes = od_nodes.rename(columns={'geometry_x':'geometry_poi', 'geometry_y':'geometry_node'})"
   ]
  },
  {
   "cell_type": "code",
   "execution_count": 59,
   "metadata": {},
   "outputs": [
    {
     "data": {
      "text/html": [
       "<div>\n",
       "<style scoped>\n",
       "    .dataframe tbody tr th:only-of-type {\n",
       "        vertical-align: middle;\n",
       "    }\n",
       "\n",
       "    .dataframe tbody tr th {\n",
       "        vertical-align: top;\n",
       "    }\n",
       "\n",
       "    .dataframe thead th {\n",
       "        text-align: right;\n",
       "    }\n",
       "</style>\n",
       "<table border=\"1\" class=\"dataframe\">\n",
       "  <thead>\n",
       "    <tr style=\"text-align: right;\">\n",
       "      <th></th>\n",
       "      <th>nodeID</th>\n",
       "      <th>distance</th>\n",
       "      <th>poiID</th>\n",
       "      <th>groupname</th>\n",
       "      <th>categoryname</th>\n",
       "      <th>classname</th>\n",
       "      <th>geometry_poi</th>\n",
       "      <th>geometry_node</th>\n",
       "    </tr>\n",
       "  </thead>\n",
       "  <tbody>\n",
       "    <tr>\n",
       "      <th>191600</th>\n",
       "      <td>35653</td>\n",
       "      <td>433.354004</td>\n",
       "      <td>6372</td>\n",
       "      <td>Park</td>\n",
       "      <td>Park</td>\n",
       "      <td>Park</td>\n",
       "      <td>POINT (338402.600 397318.430)</td>\n",
       "      <td>POINT (338157.035 397514.046)</td>\n",
       "    </tr>\n",
       "  </tbody>\n",
       "</table>\n",
       "</div>"
      ],
      "text/plain": [
       "        nodeID    distance  poiID groupname categoryname classname  \\\n",
       "191600   35653  433.354004   6372      Park         Park      Park   \n",
       "\n",
       "                         geometry_poi                  geometry_node  \n",
       "191600  POINT (338402.600 397318.430)  POINT (338157.035 397514.046)  "
      ]
     },
     "execution_count": 59,
     "metadata": {},
     "output_type": "execute_result"
    }
   ],
   "source": [
    "sample = od_nodes.sample(1)\n",
    "sample"
   ]
  },
  {
   "cell_type": "code",
   "execution_count": 69,
   "metadata": {},
   "outputs": [
    {
     "data": {
      "text/plain": [
       "0    27171\n",
       "1     9874\n",
       "Name: node_id, dtype: int64"
      ]
     },
     "execution_count": 69,
     "metadata": {},
     "output_type": "execute_result"
    }
   ],
   "source": [
    "# get nearest nodes\n",
    "\n",
    "nodes = walk_streets_pdna.get_node_ids(\n",
    "    [sample.geometry_node.x, sample.geometry_node.y],\n",
    "    [sample.geometry_poi.x, sample.geometry_poi.y]\n",
    ")\n",
    "nodes"
   ]
  },
  {
   "cell_type": "code",
   "execution_count": 67,
   "metadata": {},
   "outputs": [
    {
     "data": {
      "text/plain": [
       "array([27171, 27172, 27166, 27167, 27030, 27029, 26997, 26207, 26203,\n",
       "       26204, 26206, 26202, 26982, 26985, 26984, 26988, 26989, 27046,\n",
       "       27050, 27080, 26953, 26950, 26954, 27082, 26907, 26162, 26159,\n",
       "       26158, 26156, 26155,  5108,  5107,  5608,  4816,  4811,  4812,\n",
       "        4813, 20538, 20539,  4585,  4980,  4977,  4975,  4974,  4973,\n",
       "        2887,  2885,  2884,  2264,  2257,  2254,  2255,  2260,  2266,\n",
       "        2267,  2268,  2272,  2273,  2240,  2241,  2236,  2232,  2233,\n",
       "        2227,  2226,  2228,  1483,  1482,   736,   734,   735,   737,\n",
       "        1480,  1474,  1473,  1475,  1477,  1479,  1470,  1466,  1465,\n",
       "        1464,  1469,  2125,  1459, 13318, 13317, 18391,  3507,  3503,\n",
       "        3501,  3500,  3504,  3510,  3485,  3484,  3480,  3520,  3518,\n",
       "        3521, 16282,  4149,  4146,  4144,  4143,  4155,  4154,  4153,\n",
       "        4326,  4325, 16317,  4162,  4161,  4160,  4164, 17040, 13389,\n",
       "       13385, 13382, 13366, 13357, 13354, 13353,  6663,  6660,  6664,\n",
       "        6666,  6661,  6665, 13349, 15476, 15475, 15474, 15478, 15519,\n",
       "       15518, 15516, 19120, 19123, 21186, 15371, 15369, 15368, 15365,\n",
       "       15367, 15378, 15381, 19760, 19759, 19764, 10103, 10102, 10047,\n",
       "       10042, 10043, 10044, 10060, 10065, 10066, 15361, 15728, 15726,\n",
       "       10097, 10098, 10096, 10095, 10092, 10090, 10089, 10093, 17650,\n",
       "       10085, 10084, 10086, 10149, 10150, 10153, 15445, 15449, 10074,\n",
       "       10072, 10070,  4687,  4688,  4689,  4690,  4667,  4665,  4668,\n",
       "        4696,  4669,  4670,  4697, 18534, 18536, 18505, 18501, 18499,\n",
       "       18500, 18503, 18489, 18486, 18491, 18487, 18490, 18493, 22369,\n",
       "       22367, 22368,  4724,  4721,  4722,  4715,  4716,  4717, 10937,\n",
       "       10938, 10939, 10942, 18783, 10943, 10945, 10946, 10948, 16077,\n",
       "       16078, 10172, 16073, 16071, 16070,  9879, 11966, 11967,  9875,\n",
       "        9872,  9871,  9870,  9874], dtype=int64)"
      ]
     },
     "execution_count": 67,
     "metadata": {},
     "output_type": "execute_result"
    }
   ],
   "source": [
    "route = walk_streets_pdna.shortest_path(nodes[0],nodes[1])\n",
    "route"
   ]
  },
  {
   "cell_type": "code",
   "execution_count": null,
   "metadata": {},
   "outputs": [],
   "source": []
  },
  {
   "cell_type": "code",
   "execution_count": null,
   "metadata": {},
   "outputs": [],
   "source": []
  },
  {
   "cell_type": "code",
   "execution_count": null,
   "metadata": {},
   "outputs": [],
   "source": []
  },
  {
   "cell_type": "code",
   "execution_count": null,
   "metadata": {},
   "outputs": [],
   "source": []
  },
  {
   "cell_type": "code",
   "execution_count": null,
   "metadata": {},
   "outputs": [],
   "source": []
  },
  {
   "cell_type": "code",
   "execution_count": null,
   "metadata": {},
   "outputs": [],
   "source": []
  },
  {
   "cell_type": "code",
   "execution_count": 57,
   "metadata": {},
   "outputs": [],
   "source": [
    "ori_x, ori_y = sample.geometry_node.x, sample.geometry_node.y\n",
    "sample['node_id'] = walk_streets_pdna.get_node_ids(ori_x,ori_y)"
   ]
  },
  {
   "cell_type": "code",
   "execution_count": 54,
   "metadata": {},
   "outputs": [],
   "source": [
    "ori_x, ori_y = sample.geometry_node.x, sample.geometry_node.y\n",
    "nodes_ori = walk_streets_pdna.get_node_ids(ori_x, ori_y)\n",
    "\n",
    "dest_x, dest_y = sample.geometry_poi.x, sample.geometry_poi.y\n",
    "nodes_dest = walk_streets_pdna.get_node_ids(dest_x, dest_y)"
   ]
  },
  {
   "cell_type": "code",
   "execution_count": 55,
   "metadata": {},
   "outputs": [
    {
     "data": {
      "text/plain": [
       "142808    12967\n",
       "105604    16280\n",
       "192572    15052\n",
       "Name: node_id, dtype: int64"
      ]
     },
     "execution_count": 55,
     "metadata": {},
     "output_type": "execute_result"
    }
   ],
   "source": [
    "nodes_ori"
   ]
  },
  {
   "cell_type": "code",
   "execution_count": null,
   "metadata": {},
   "outputs": [],
   "source": [
    "walk_streets_pdna.get_node_ids()"
   ]
  },
  {
   "cell_type": "code",
   "execution_count": 56,
   "metadata": {},
   "outputs": [
    {
     "data": {
      "text/plain": [
       "142808    12706\n",
       "105604    16350\n",
       "192572    21913\n",
       "Name: node_id, dtype: int64"
      ]
     },
     "execution_count": 56,
     "metadata": {},
     "output_type": "execute_result"
    }
   ],
   "source": [
    "nodes_dest"
   ]
  },
  {
   "cell_type": "code",
   "execution_count": 35,
   "metadata": {},
   "outputs": [],
   "source": [
    "destinations = list(zip(sample.geometry_poi.x, sample.geometry_poi.y))\n",
    "origins = list(zip(sample.geometry_node.x, sample.geometry_node.y))"
   ]
  },
  {
   "cell_type": "code",
   "execution_count": 45,
   "metadata": {},
   "outputs": [
    {
     "data": {
      "text/plain": [
       "list"
      ]
     },
     "execution_count": 45,
     "metadata": {},
     "output_type": "execute_result"
    }
   ],
   "source": [
    "type(destinations)"
   ]
  },
  {
   "cell_type": "code",
   "execution_count": 43,
   "metadata": {},
   "outputs": [
    {
     "data": {
      "text/plain": [
       "(344145.66, 388171.7)"
      ]
     },
     "execution_count": 43,
     "metadata": {},
     "output_type": "execute_result"
    }
   ],
   "source": [
    "destinations[1]"
   ]
  },
  {
   "cell_type": "code",
   "execution_count": 37,
   "metadata": {},
   "outputs": [
    {
     "ename": "ValueError",
     "evalue": "setting an array element with a sequence.",
     "output_type": "error",
     "traceback": [
      "\u001b[1;31m---------------------------------------------------------------------------\u001b[0m",
      "\u001b[1;31mTypeError\u001b[0m                                 Traceback (most recent call last)",
      "File \u001b[1;32m~\\Anaconda3\\envs\\geo_env\\lib\\site-packages\\pandas\\core\\series.py:185\u001b[0m, in \u001b[0;36m_coerce_method.<locals>.wrapper\u001b[1;34m(self)\u001b[0m\n\u001b[0;32m    <a href='file:///c%3A/Users/b9066009/Anaconda3/envs/geo_env/lib/site-packages/pandas/core/series.py?line=183'>184</a>\u001b[0m     \u001b[39mreturn\u001b[39;00m converter(\u001b[39mself\u001b[39m\u001b[39m.\u001b[39miloc[\u001b[39m0\u001b[39m])\n\u001b[1;32m--> <a href='file:///c%3A/Users/b9066009/Anaconda3/envs/geo_env/lib/site-packages/pandas/core/series.py?line=184'>185</a>\u001b[0m \u001b[39mraise\u001b[39;00m \u001b[39mTypeError\u001b[39;00m(\u001b[39mf\u001b[39m\u001b[39m\"\u001b[39m\u001b[39mcannot convert the series to \u001b[39m\u001b[39m{\u001b[39;00mconverter\u001b[39m}\u001b[39;00m\u001b[39m\"\u001b[39m)\n",
      "\u001b[1;31mTypeError\u001b[0m: cannot convert the series to <class 'float'>",
      "\nThe above exception was the direct cause of the following exception:\n",
      "\u001b[1;31mValueError\u001b[0m                                Traceback (most recent call last)",
      "\u001b[1;32mc:\\Users\\b9066009\\Documents\\PhD\\conferences\\2022_GISRUK\\gisruk_2022\\notebooks\\shortest_path.ipynb Cell 8'\u001b[0m in \u001b[0;36m<module>\u001b[1;34m\u001b[0m\n\u001b[1;32m----> <a href='vscode-notebook-cell:/c%3A/Users/b9066009/Documents/PhD/conferences/2022_GISRUK/gisruk_2022/notebooks/shortest_path.ipynb#ch0000039?line=0'>1</a>\u001b[0m nodes \u001b[39m=\u001b[39m walk_streets_pdna\u001b[39m.\u001b[39;49mget_node_ids(\n\u001b[0;32m      <a href='vscode-notebook-cell:/c%3A/Users/b9066009/Documents/PhD/conferences/2022_GISRUK/gisruk_2022/notebooks/shortest_path.ipynb#ch0000039?line=1'>2</a>\u001b[0m     [sample\u001b[39m.\u001b[39;49mgeometry_node\u001b[39m.\u001b[39;49mx, sample\u001b[39m.\u001b[39;49mgeometry_node\u001b[39m.\u001b[39;49my],\n\u001b[0;32m      <a href='vscode-notebook-cell:/c%3A/Users/b9066009/Documents/PhD/conferences/2022_GISRUK/gisruk_2022/notebooks/shortest_path.ipynb#ch0000039?line=2'>3</a>\u001b[0m     [sample\u001b[39m.\u001b[39;49mgeometry_poi\u001b[39m.\u001b[39;49mx, sample\u001b[39m.\u001b[39;49mgeometry_poi\u001b[39m.\u001b[39;49my]\n\u001b[0;32m      <a href='vscode-notebook-cell:/c%3A/Users/b9066009/Documents/PhD/conferences/2022_GISRUK/gisruk_2022/notebooks/shortest_path.ipynb#ch0000039?line=3'>4</a>\u001b[0m )\n\u001b[0;32m      <a href='vscode-notebook-cell:/c%3A/Users/b9066009/Documents/PhD/conferences/2022_GISRUK/gisruk_2022/notebooks/shortest_path.ipynb#ch0000039?line=4'>5</a>\u001b[0m nodes\n",
      "File \u001b[1;32m~\\Anaconda3\\envs\\geo_env\\lib\\site-packages\\pandana\\network.py:513\u001b[0m, in \u001b[0;36mNetwork.get_node_ids\u001b[1;34m(self, x_col, y_col, mapping_distance)\u001b[0m\n\u001b[0;32m    <a href='file:///c%3A/Users/b9066009/Anaconda3/envs/geo_env/lib/site-packages/pandana/network.py?line=480'>481</a>\u001b[0m \u001b[39m\"\"\"\u001b[39;00m\n\u001b[0;32m    <a href='file:///c%3A/Users/b9066009/Anaconda3/envs/geo_env/lib/site-packages/pandana/network.py?line=481'>482</a>\u001b[0m \u001b[39mAssign node_ids to data specified by x_col and y_col.\u001b[39;00m\n\u001b[0;32m    <a href='file:///c%3A/Users/b9066009/Anaconda3/envs/geo_env/lib/site-packages/pandana/network.py?line=482'>483</a>\u001b[0m \n\u001b[1;32m   (...)\u001b[0m\n\u001b[0;32m    <a href='file:///c%3A/Users/b9066009/Anaconda3/envs/geo_env/lib/site-packages/pandana/network.py?line=508'>509</a>\u001b[0m \u001b[39m    input x, y's that were successfully mapped to node_ids.\u001b[39;00m\n\u001b[0;32m    <a href='file:///c%3A/Users/b9066009/Anaconda3/envs/geo_env/lib/site-packages/pandana/network.py?line=509'>510</a>\u001b[0m \u001b[39m\"\"\"\u001b[39;00m\n\u001b[0;32m    <a href='file:///c%3A/Users/b9066009/Anaconda3/envs/geo_env/lib/site-packages/pandana/network.py?line=510'>511</a>\u001b[0m xys \u001b[39m=\u001b[39m pd\u001b[39m.\u001b[39mDataFrame({\u001b[39m'\u001b[39m\u001b[39mx\u001b[39m\u001b[39m'\u001b[39m: x_col, \u001b[39m'\u001b[39m\u001b[39my\u001b[39m\u001b[39m'\u001b[39m: y_col})\n\u001b[1;32m--> <a href='file:///c%3A/Users/b9066009/Anaconda3/envs/geo_env/lib/site-packages/pandana/network.py?line=512'>513</a>\u001b[0m distances, indexes \u001b[39m=\u001b[39m \u001b[39mself\u001b[39;49m\u001b[39m.\u001b[39;49mkdtree\u001b[39m.\u001b[39;49mquery(xys\u001b[39m.\u001b[39;49mvalues)\n\u001b[0;32m    <a href='file:///c%3A/Users/b9066009/Anaconda3/envs/geo_env/lib/site-packages/pandana/network.py?line=513'>514</a>\u001b[0m indexes \u001b[39m=\u001b[39m np\u001b[39m.\u001b[39mtranspose(indexes)[\u001b[39m0\u001b[39m]\n\u001b[0;32m    <a href='file:///c%3A/Users/b9066009/Anaconda3/envs/geo_env/lib/site-packages/pandana/network.py?line=514'>515</a>\u001b[0m distances \u001b[39m=\u001b[39m np\u001b[39m.\u001b[39mtranspose(distances)[\u001b[39m0\u001b[39m]\n",
      "File \u001b[1;32msklearn\\neighbors\\_binary_tree.pxi:1242\u001b[0m, in \u001b[0;36msklearn.neighbors._kd_tree.BinaryTree.query\u001b[1;34m()\u001b[0m\n",
      "File \u001b[1;32m~\\Anaconda3\\envs\\geo_env\\lib\\site-packages\\sklearn\\utils\\validation.py:746\u001b[0m, in \u001b[0;36mcheck_array\u001b[1;34m(array, accept_sparse, accept_large_sparse, dtype, order, copy, force_all_finite, ensure_2d, allow_nd, ensure_min_samples, ensure_min_features, estimator)\u001b[0m\n\u001b[0;32m    <a href='file:///c%3A/Users/b9066009/Anaconda3/envs/geo_env/lib/site-packages/sklearn/utils/validation.py?line=743'>744</a>\u001b[0m         array \u001b[39m=\u001b[39m array\u001b[39m.\u001b[39mastype(dtype, casting\u001b[39m=\u001b[39m\u001b[39m\"\u001b[39m\u001b[39munsafe\u001b[39m\u001b[39m\"\u001b[39m, copy\u001b[39m=\u001b[39m\u001b[39mFalse\u001b[39;00m)\n\u001b[0;32m    <a href='file:///c%3A/Users/b9066009/Anaconda3/envs/geo_env/lib/site-packages/sklearn/utils/validation.py?line=744'>745</a>\u001b[0m     \u001b[39melse\u001b[39;00m:\n\u001b[1;32m--> <a href='file:///c%3A/Users/b9066009/Anaconda3/envs/geo_env/lib/site-packages/sklearn/utils/validation.py?line=745'>746</a>\u001b[0m         array \u001b[39m=\u001b[39m np\u001b[39m.\u001b[39;49masarray(array, order\u001b[39m=\u001b[39;49morder, dtype\u001b[39m=\u001b[39;49mdtype)\n\u001b[0;32m    <a href='file:///c%3A/Users/b9066009/Anaconda3/envs/geo_env/lib/site-packages/sklearn/utils/validation.py?line=746'>747</a>\u001b[0m \u001b[39mexcept\u001b[39;00m ComplexWarning \u001b[39mas\u001b[39;00m complex_warning:\n\u001b[0;32m    <a href='file:///c%3A/Users/b9066009/Anaconda3/envs/geo_env/lib/site-packages/sklearn/utils/validation.py?line=747'>748</a>\u001b[0m     \u001b[39mraise\u001b[39;00m \u001b[39mValueError\u001b[39;00m(\n\u001b[0;32m    <a href='file:///c%3A/Users/b9066009/Anaconda3/envs/geo_env/lib/site-packages/sklearn/utils/validation.py?line=748'>749</a>\u001b[0m         \u001b[39m\"\u001b[39m\u001b[39mComplex data not supported\u001b[39m\u001b[39m\\n\u001b[39;00m\u001b[39m{}\u001b[39;00m\u001b[39m\\n\u001b[39;00m\u001b[39m\"\u001b[39m\u001b[39m.\u001b[39mformat(array)\n\u001b[0;32m    <a href='file:///c%3A/Users/b9066009/Anaconda3/envs/geo_env/lib/site-packages/sklearn/utils/validation.py?line=749'>750</a>\u001b[0m     ) \u001b[39mfrom\u001b[39;00m \u001b[39mcomplex_warning\u001b[39;00m\n",
      "\u001b[1;31mValueError\u001b[0m: setting an array element with a sequence."
     ]
    }
   ],
   "source": [
    "nodes = []\n",
    "for o in origins:\n",
    "    for d in destinations:\n",
    "        node = walk_streets_pdna.get_node_ids(\n",
    "    o[1]\n",
    ")\n",
    "nodes"
   ]
  },
  {
   "cell_type": "code",
   "execution_count": null,
   "metadata": {},
   "outputs": [],
   "source": []
  },
  {
   "cell_type": "code",
   "execution_count": 36,
   "metadata": {},
   "outputs": [
    {
     "ename": "ValueError",
     "evalue": "You are trying to merge on object and int64 columns. If you wish to proceed you should use pd.concat",
     "output_type": "error",
     "traceback": [
      "\u001b[1;31m---------------------------------------------------------------------------\u001b[0m",
      "\u001b[1;31mValueError\u001b[0m                                Traceback (most recent call last)",
      "\u001b[1;32mc:\\Users\\b9066009\\Documents\\PhD\\conferences\\2022_GISRUK\\gisruk_2022\\notebooks\\shortest_path.ipynb Cell 8'\u001b[0m in \u001b[0;36m<module>\u001b[1;34m\u001b[0m\n\u001b[0;32m      <a href='vscode-notebook-cell:/c%3A/Users/b9066009/Documents/PhD/conferences/2022_GISRUK/gisruk_2022/notebooks/shortest_path.ipynb#ch0000036?line=2'>3</a>\u001b[0m \u001b[39mfor\u001b[39;00m o \u001b[39min\u001b[39;00m origins:\n\u001b[0;32m      <a href='vscode-notebook-cell:/c%3A/Users/b9066009/Documents/PhD/conferences/2022_GISRUK/gisruk_2022/notebooks/shortest_path.ipynb#ch0000036?line=3'>4</a>\u001b[0m     \u001b[39mfor\u001b[39;00m d \u001b[39min\u001b[39;00m destinations:\n\u001b[1;32m----> <a href='vscode-notebook-cell:/c%3A/Users/b9066009/Documents/PhD/conferences/2022_GISRUK/gisruk_2022/notebooks/shortest_path.ipynb#ch0000036?line=4'>5</a>\u001b[0m         route \u001b[39m=\u001b[39m walk_streets_pdna\u001b[39m.\u001b[39;49mshortest_path(o,d)\n\u001b[0;32m      <a href='vscode-notebook-cell:/c%3A/Users/b9066009/Documents/PhD/conferences/2022_GISRUK/gisruk_2022/notebooks/shortest_path.ipynb#ch0000036?line=5'>6</a>\u001b[0m         routes\u001b[39m.\u001b[39mappend(route)\n",
      "File \u001b[1;32m~\\Anaconda3\\envs\\geo_env\\lib\\site-packages\\pandana\\network.py:191\u001b[0m, in \u001b[0;36mNetwork.shortest_path\u001b[1;34m(self, node_a, node_b, imp_name)\u001b[0m\n\u001b[0;32m    <a href='file:///c%3A/Users/b9066009/Anaconda3/envs/geo_env/lib/site-packages/pandana/network.py?line=170'>171</a>\u001b[0m \u001b[39m\"\"\"\u001b[39;00m\n\u001b[0;32m    <a href='file:///c%3A/Users/b9066009/Anaconda3/envs/geo_env/lib/site-packages/pandana/network.py?line=171'>172</a>\u001b[0m \u001b[39mReturn the shortest path between two node ids in the network. Must\u001b[39;00m\n\u001b[0;32m    <a href='file:///c%3A/Users/b9066009/Anaconda3/envs/geo_env/lib/site-packages/pandana/network.py?line=172'>173</a>\u001b[0m \u001b[39mprovide an impedance name if more than one is available.\u001b[39;00m\n\u001b[1;32m   (...)\u001b[0m\n\u001b[0;32m    <a href='file:///c%3A/Users/b9066009/Anaconda3/envs/geo_env/lib/site-packages/pandana/network.py?line=187'>188</a>\u001b[0m \n\u001b[0;32m    <a href='file:///c%3A/Users/b9066009/Anaconda3/envs/geo_env/lib/site-packages/pandana/network.py?line=188'>189</a>\u001b[0m \u001b[39m\"\"\"\u001b[39;00m\n\u001b[0;32m    <a href='file:///c%3A/Users/b9066009/Anaconda3/envs/geo_env/lib/site-packages/pandana/network.py?line=189'>190</a>\u001b[0m \u001b[39m# map to internal node indexes\u001b[39;00m\n\u001b[1;32m--> <a href='file:///c%3A/Users/b9066009/Anaconda3/envs/geo_env/lib/site-packages/pandana/network.py?line=190'>191</a>\u001b[0m node_idx \u001b[39m=\u001b[39m \u001b[39mself\u001b[39;49m\u001b[39m.\u001b[39;49m_node_indexes(pd\u001b[39m.\u001b[39;49mSeries([node_a, node_b]))\n\u001b[0;32m    <a href='file:///c%3A/Users/b9066009/Anaconda3/envs/geo_env/lib/site-packages/pandana/network.py?line=191'>192</a>\u001b[0m node_a \u001b[39m=\u001b[39m node_idx\u001b[39m.\u001b[39miloc[\u001b[39m0\u001b[39m]\n\u001b[0;32m    <a href='file:///c%3A/Users/b9066009/Anaconda3/envs/geo_env/lib/site-packages/pandana/network.py?line=192'>193</a>\u001b[0m node_b \u001b[39m=\u001b[39m node_idx\u001b[39m.\u001b[39miloc[\u001b[39m1\u001b[39m]\n",
      "File \u001b[1;32m~\\Anaconda3\\envs\\geo_env\\lib\\site-packages\\pandana\\network.py:140\u001b[0m, in \u001b[0;36mNetwork._node_indexes\u001b[1;34m(self, node_ids)\u001b[0m\n\u001b[0;32m    <a href='file:///c%3A/Users/b9066009/Anaconda3/envs/geo_env/lib/site-packages/pandana/network.py?line=137'>138</a>\u001b[0m \u001b[39mdef\u001b[39;00m \u001b[39m_node_indexes\u001b[39m(\u001b[39mself\u001b[39m, node_ids):\n\u001b[0;32m    <a href='file:///c%3A/Users/b9066009/Anaconda3/envs/geo_env/lib/site-packages/pandana/network.py?line=138'>139</a>\u001b[0m     \u001b[39m# for some reason, merge is must faster than .loc\u001b[39;00m\n\u001b[1;32m--> <a href='file:///c%3A/Users/b9066009/Anaconda3/envs/geo_env/lib/site-packages/pandana/network.py?line=139'>140</a>\u001b[0m     df \u001b[39m=\u001b[39m pd\u001b[39m.\u001b[39;49mmerge(pd\u001b[39m.\u001b[39;49mDataFrame({\u001b[39m\"\u001b[39;49m\u001b[39mnode_ids\u001b[39;49m\u001b[39m\"\u001b[39;49m: node_ids}),\n\u001b[0;32m    <a href='file:///c%3A/Users/b9066009/Anaconda3/envs/geo_env/lib/site-packages/pandana/network.py?line=140'>141</a>\u001b[0m                   pd\u001b[39m.\u001b[39;49mDataFrame({\u001b[39m\"\u001b[39;49m\u001b[39mnode_idx\u001b[39;49m\u001b[39m\"\u001b[39;49m: \u001b[39mself\u001b[39;49m\u001b[39m.\u001b[39;49mnode_idx}),\n\u001b[0;32m    <a href='file:///c%3A/Users/b9066009/Anaconda3/envs/geo_env/lib/site-packages/pandana/network.py?line=141'>142</a>\u001b[0m                   left_on\u001b[39m=\u001b[39;49m\u001b[39m\"\u001b[39;49m\u001b[39mnode_ids\u001b[39;49m\u001b[39m\"\u001b[39;49m,\n\u001b[0;32m    <a href='file:///c%3A/Users/b9066009/Anaconda3/envs/geo_env/lib/site-packages/pandana/network.py?line=142'>143</a>\u001b[0m                   right_index\u001b[39m=\u001b[39;49m\u001b[39mTrue\u001b[39;49;00m,\n\u001b[0;32m    <a href='file:///c%3A/Users/b9066009/Anaconda3/envs/geo_env/lib/site-packages/pandana/network.py?line=143'>144</a>\u001b[0m                   how\u001b[39m=\u001b[39;49m\u001b[39m\"\u001b[39;49m\u001b[39mleft\u001b[39;49m\u001b[39m\"\u001b[39;49m)\n\u001b[0;32m    <a href='file:///c%3A/Users/b9066009/Anaconda3/envs/geo_env/lib/site-packages/pandana/network.py?line=144'>145</a>\u001b[0m     \u001b[39mreturn\u001b[39;00m df\u001b[39m.\u001b[39mnode_idx\n",
      "File \u001b[1;32m~\\Anaconda3\\envs\\geo_env\\lib\\site-packages\\pandas\\core\\reshape\\merge.py:106\u001b[0m, in \u001b[0;36mmerge\u001b[1;34m(left, right, how, on, left_on, right_on, left_index, right_index, sort, suffixes, copy, indicator, validate)\u001b[0m\n\u001b[0;32m     <a href='file:///c%3A/Users/b9066009/Anaconda3/envs/geo_env/lib/site-packages/pandas/core/reshape/merge.py?line=88'>89</a>\u001b[0m \u001b[39m@Substitution\u001b[39m(\u001b[39m\"\u001b[39m\u001b[39m\\n\u001b[39;00m\u001b[39mleft : DataFrame or named Series\u001b[39m\u001b[39m\"\u001b[39m)\n\u001b[0;32m     <a href='file:///c%3A/Users/b9066009/Anaconda3/envs/geo_env/lib/site-packages/pandas/core/reshape/merge.py?line=89'>90</a>\u001b[0m \u001b[39m@Appender\u001b[39m(_merge_doc, indents\u001b[39m=\u001b[39m\u001b[39m0\u001b[39m)\n\u001b[0;32m     <a href='file:///c%3A/Users/b9066009/Anaconda3/envs/geo_env/lib/site-packages/pandas/core/reshape/merge.py?line=90'>91</a>\u001b[0m \u001b[39mdef\u001b[39;00m \u001b[39mmerge\u001b[39m(\n\u001b[1;32m   (...)\u001b[0m\n\u001b[0;32m    <a href='file:///c%3A/Users/b9066009/Anaconda3/envs/geo_env/lib/site-packages/pandas/core/reshape/merge.py?line=103'>104</a>\u001b[0m     validate: \u001b[39mstr\u001b[39m \u001b[39m|\u001b[39m \u001b[39mNone\u001b[39;00m \u001b[39m=\u001b[39m \u001b[39mNone\u001b[39;00m,\n\u001b[0;32m    <a href='file:///c%3A/Users/b9066009/Anaconda3/envs/geo_env/lib/site-packages/pandas/core/reshape/merge.py?line=104'>105</a>\u001b[0m ) \u001b[39m-\u001b[39m\u001b[39m>\u001b[39m DataFrame:\n\u001b[1;32m--> <a href='file:///c%3A/Users/b9066009/Anaconda3/envs/geo_env/lib/site-packages/pandas/core/reshape/merge.py?line=105'>106</a>\u001b[0m     op \u001b[39m=\u001b[39m _MergeOperation(\n\u001b[0;32m    <a href='file:///c%3A/Users/b9066009/Anaconda3/envs/geo_env/lib/site-packages/pandas/core/reshape/merge.py?line=106'>107</a>\u001b[0m         left,\n\u001b[0;32m    <a href='file:///c%3A/Users/b9066009/Anaconda3/envs/geo_env/lib/site-packages/pandas/core/reshape/merge.py?line=107'>108</a>\u001b[0m         right,\n\u001b[0;32m    <a href='file:///c%3A/Users/b9066009/Anaconda3/envs/geo_env/lib/site-packages/pandas/core/reshape/merge.py?line=108'>109</a>\u001b[0m         how\u001b[39m=\u001b[39;49mhow,\n\u001b[0;32m    <a href='file:///c%3A/Users/b9066009/Anaconda3/envs/geo_env/lib/site-packages/pandas/core/reshape/merge.py?line=109'>110</a>\u001b[0m         on\u001b[39m=\u001b[39;49mon,\n\u001b[0;32m    <a href='file:///c%3A/Users/b9066009/Anaconda3/envs/geo_env/lib/site-packages/pandas/core/reshape/merge.py?line=110'>111</a>\u001b[0m         left_on\u001b[39m=\u001b[39;49mleft_on,\n\u001b[0;32m    <a href='file:///c%3A/Users/b9066009/Anaconda3/envs/geo_env/lib/site-packages/pandas/core/reshape/merge.py?line=111'>112</a>\u001b[0m         right_on\u001b[39m=\u001b[39;49mright_on,\n\u001b[0;32m    <a href='file:///c%3A/Users/b9066009/Anaconda3/envs/geo_env/lib/site-packages/pandas/core/reshape/merge.py?line=112'>113</a>\u001b[0m         left_index\u001b[39m=\u001b[39;49mleft_index,\n\u001b[0;32m    <a href='file:///c%3A/Users/b9066009/Anaconda3/envs/geo_env/lib/site-packages/pandas/core/reshape/merge.py?line=113'>114</a>\u001b[0m         right_index\u001b[39m=\u001b[39;49mright_index,\n\u001b[0;32m    <a href='file:///c%3A/Users/b9066009/Anaconda3/envs/geo_env/lib/site-packages/pandas/core/reshape/merge.py?line=114'>115</a>\u001b[0m         sort\u001b[39m=\u001b[39;49msort,\n\u001b[0;32m    <a href='file:///c%3A/Users/b9066009/Anaconda3/envs/geo_env/lib/site-packages/pandas/core/reshape/merge.py?line=115'>116</a>\u001b[0m         suffixes\u001b[39m=\u001b[39;49msuffixes,\n\u001b[0;32m    <a href='file:///c%3A/Users/b9066009/Anaconda3/envs/geo_env/lib/site-packages/pandas/core/reshape/merge.py?line=116'>117</a>\u001b[0m         copy\u001b[39m=\u001b[39;49mcopy,\n\u001b[0;32m    <a href='file:///c%3A/Users/b9066009/Anaconda3/envs/geo_env/lib/site-packages/pandas/core/reshape/merge.py?line=117'>118</a>\u001b[0m         indicator\u001b[39m=\u001b[39;49mindicator,\n\u001b[0;32m    <a href='file:///c%3A/Users/b9066009/Anaconda3/envs/geo_env/lib/site-packages/pandas/core/reshape/merge.py?line=118'>119</a>\u001b[0m         validate\u001b[39m=\u001b[39;49mvalidate,\n\u001b[0;32m    <a href='file:///c%3A/Users/b9066009/Anaconda3/envs/geo_env/lib/site-packages/pandas/core/reshape/merge.py?line=119'>120</a>\u001b[0m     )\n\u001b[0;32m    <a href='file:///c%3A/Users/b9066009/Anaconda3/envs/geo_env/lib/site-packages/pandas/core/reshape/merge.py?line=120'>121</a>\u001b[0m     \u001b[39mreturn\u001b[39;00m op\u001b[39m.\u001b[39mget_result()\n",
      "File \u001b[1;32m~\\Anaconda3\\envs\\geo_env\\lib\\site-packages\\pandas\\core\\reshape\\merge.py:703\u001b[0m, in \u001b[0;36m_MergeOperation.__init__\u001b[1;34m(self, left, right, how, on, left_on, right_on, axis, left_index, right_index, sort, suffixes, copy, indicator, validate)\u001b[0m\n\u001b[0;32m    <a href='file:///c%3A/Users/b9066009/Anaconda3/envs/geo_env/lib/site-packages/pandas/core/reshape/merge.py?line=694'>695</a>\u001b[0m (\n\u001b[0;32m    <a href='file:///c%3A/Users/b9066009/Anaconda3/envs/geo_env/lib/site-packages/pandas/core/reshape/merge.py?line=695'>696</a>\u001b[0m     \u001b[39mself\u001b[39m\u001b[39m.\u001b[39mleft_join_keys,\n\u001b[0;32m    <a href='file:///c%3A/Users/b9066009/Anaconda3/envs/geo_env/lib/site-packages/pandas/core/reshape/merge.py?line=696'>697</a>\u001b[0m     \u001b[39mself\u001b[39m\u001b[39m.\u001b[39mright_join_keys,\n\u001b[0;32m    <a href='file:///c%3A/Users/b9066009/Anaconda3/envs/geo_env/lib/site-packages/pandas/core/reshape/merge.py?line=697'>698</a>\u001b[0m     \u001b[39mself\u001b[39m\u001b[39m.\u001b[39mjoin_names,\n\u001b[0;32m    <a href='file:///c%3A/Users/b9066009/Anaconda3/envs/geo_env/lib/site-packages/pandas/core/reshape/merge.py?line=698'>699</a>\u001b[0m ) \u001b[39m=\u001b[39m \u001b[39mself\u001b[39m\u001b[39m.\u001b[39m_get_merge_keys()\n\u001b[0;32m    <a href='file:///c%3A/Users/b9066009/Anaconda3/envs/geo_env/lib/site-packages/pandas/core/reshape/merge.py?line=700'>701</a>\u001b[0m \u001b[39m# validate the merge keys dtypes. We may need to coerce\u001b[39;00m\n\u001b[0;32m    <a href='file:///c%3A/Users/b9066009/Anaconda3/envs/geo_env/lib/site-packages/pandas/core/reshape/merge.py?line=701'>702</a>\u001b[0m \u001b[39m# to avoid incompatible dtypes\u001b[39;00m\n\u001b[1;32m--> <a href='file:///c%3A/Users/b9066009/Anaconda3/envs/geo_env/lib/site-packages/pandas/core/reshape/merge.py?line=702'>703</a>\u001b[0m \u001b[39mself\u001b[39;49m\u001b[39m.\u001b[39;49m_maybe_coerce_merge_keys()\n\u001b[0;32m    <a href='file:///c%3A/Users/b9066009/Anaconda3/envs/geo_env/lib/site-packages/pandas/core/reshape/merge.py?line=704'>705</a>\u001b[0m \u001b[39m# If argument passed to validate,\u001b[39;00m\n\u001b[0;32m    <a href='file:///c%3A/Users/b9066009/Anaconda3/envs/geo_env/lib/site-packages/pandas/core/reshape/merge.py?line=705'>706</a>\u001b[0m \u001b[39m# check if columns specified as unique\u001b[39;00m\n\u001b[0;32m    <a href='file:///c%3A/Users/b9066009/Anaconda3/envs/geo_env/lib/site-packages/pandas/core/reshape/merge.py?line=706'>707</a>\u001b[0m \u001b[39m# are in fact unique.\u001b[39;00m\n\u001b[0;32m    <a href='file:///c%3A/Users/b9066009/Anaconda3/envs/geo_env/lib/site-packages/pandas/core/reshape/merge.py?line=707'>708</a>\u001b[0m \u001b[39mif\u001b[39;00m validate \u001b[39mis\u001b[39;00m \u001b[39mnot\u001b[39;00m \u001b[39mNone\u001b[39;00m:\n",
      "File \u001b[1;32m~\\Anaconda3\\envs\\geo_env\\lib\\site-packages\\pandas\\core\\reshape\\merge.py:1256\u001b[0m, in \u001b[0;36m_MergeOperation._maybe_coerce_merge_keys\u001b[1;34m(self)\u001b[0m\n\u001b[0;32m   <a href='file:///c%3A/Users/b9066009/Anaconda3/envs/geo_env/lib/site-packages/pandas/core/reshape/merge.py?line=1249'>1250</a>\u001b[0m     \u001b[39m# unless we are merging non-string-like with string-like\u001b[39;00m\n\u001b[0;32m   <a href='file:///c%3A/Users/b9066009/Anaconda3/envs/geo_env/lib/site-packages/pandas/core/reshape/merge.py?line=1250'>1251</a>\u001b[0m     \u001b[39melif\u001b[39;00m (\n\u001b[0;32m   <a href='file:///c%3A/Users/b9066009/Anaconda3/envs/geo_env/lib/site-packages/pandas/core/reshape/merge.py?line=1251'>1252</a>\u001b[0m         inferred_left \u001b[39min\u001b[39;00m string_types \u001b[39mand\u001b[39;00m inferred_right \u001b[39mnot\u001b[39;00m \u001b[39min\u001b[39;00m string_types\n\u001b[0;32m   <a href='file:///c%3A/Users/b9066009/Anaconda3/envs/geo_env/lib/site-packages/pandas/core/reshape/merge.py?line=1252'>1253</a>\u001b[0m     ) \u001b[39mor\u001b[39;00m (\n\u001b[0;32m   <a href='file:///c%3A/Users/b9066009/Anaconda3/envs/geo_env/lib/site-packages/pandas/core/reshape/merge.py?line=1253'>1254</a>\u001b[0m         inferred_right \u001b[39min\u001b[39;00m string_types \u001b[39mand\u001b[39;00m inferred_left \u001b[39mnot\u001b[39;00m \u001b[39min\u001b[39;00m string_types\n\u001b[0;32m   <a href='file:///c%3A/Users/b9066009/Anaconda3/envs/geo_env/lib/site-packages/pandas/core/reshape/merge.py?line=1254'>1255</a>\u001b[0m     ):\n\u001b[1;32m-> <a href='file:///c%3A/Users/b9066009/Anaconda3/envs/geo_env/lib/site-packages/pandas/core/reshape/merge.py?line=1255'>1256</a>\u001b[0m         \u001b[39mraise\u001b[39;00m \u001b[39mValueError\u001b[39;00m(msg)\n\u001b[0;32m   <a href='file:///c%3A/Users/b9066009/Anaconda3/envs/geo_env/lib/site-packages/pandas/core/reshape/merge.py?line=1257'>1258</a>\u001b[0m \u001b[39m# datetimelikes must match exactly\u001b[39;00m\n\u001b[0;32m   <a href='file:///c%3A/Users/b9066009/Anaconda3/envs/geo_env/lib/site-packages/pandas/core/reshape/merge.py?line=1258'>1259</a>\u001b[0m \u001b[39melif\u001b[39;00m needs_i8_conversion(lk\u001b[39m.\u001b[39mdtype) \u001b[39mand\u001b[39;00m \u001b[39mnot\u001b[39;00m needs_i8_conversion(rk\u001b[39m.\u001b[39mdtype):\n",
      "\u001b[1;31mValueError\u001b[0m: You are trying to merge on object and int64 columns. If you wish to proceed you should use pd.concat"
     ]
    }
   ],
   "source": [
    "routes = []\n",
    "\n",
    "for o in origins:\n",
    "    for d in destinations:\n",
    "        route = walk_streets_pdna.shortest_path(o,d)\n",
    "        routes.append(route)"
   ]
  },
  {
   "cell_type": "code",
   "execution_count": null,
   "metadata": {},
   "outputs": [],
   "source": [
    "walk_streets_pdna.shortest_path()"
   ]
  },
  {
   "cell_type": "code",
   "execution_count": null,
   "metadata": {},
   "outputs": [],
   "source": []
  },
  {
   "cell_type": "code",
   "execution_count": 11,
   "metadata": {},
   "outputs": [],
   "source": [
    "origs_nodes = walk_streets_pdna.get_node_ids(postcodes.geometry.x, postcodes.geometry.y).values\n",
    "dests_nodes = walk_streets_pdna.get_node_ids(destinations.geometry.x, destinations.geometry.y).values"
   ]
  },
  {
   "cell_type": "code",
   "execution_count": 21,
   "metadata": {},
   "outputs": [
    {
     "data": {
      "text/plain": [
       "40490"
      ]
     },
     "execution_count": 21,
     "metadata": {},
     "output_type": "execute_result"
    }
   ],
   "source": [
    "origs_nodes[2]"
   ]
  },
  {
   "cell_type": "code",
   "execution_count": 22,
   "metadata": {},
   "outputs": [
    {
     "data": {
      "text/plain": [
       "2507"
      ]
     },
     "execution_count": 22,
     "metadata": {},
     "output_type": "execute_result"
    }
   ],
   "source": [
    "dests_nodes[5]"
   ]
  },
  {
   "cell_type": "code",
   "execution_count": 26,
   "metadata": {},
   "outputs": [
    {
     "name": "stdout",
     "output_type": "stream",
     "text": [
      "CPU times: total: 0 ns\n",
      "Wall time: 0 ns\n"
     ]
    },
    {
     "ename": "KeyboardInterrupt",
     "evalue": "",
     "output_type": "error",
     "traceback": [
      "\u001b[1;31m---------------------------------------------------------------------------\u001b[0m",
      "\u001b[1;31mKeyboardInterrupt\u001b[0m                         Traceback (most recent call last)",
      "\u001b[1;32mc:\\Users\\b9066009\\Documents\\PhD\\conferences\\2022_GISRUK\\gisruk_2022\\notebooks\\shortest_path.ipynb Cell 9'\u001b[0m in \u001b[0;36m<module>\u001b[1;34m\u001b[0m\n\u001b[0;32m      <a href='vscode-notebook-cell:/c%3A/Users/b9066009/Documents/PhD/conferences/2022_GISRUK/gisruk_2022/notebooks/shortest_path.ipynb#ch0000018?line=2'>3</a>\u001b[0m \u001b[39mfor\u001b[39;00m o \u001b[39min\u001b[39;00m origs_nodes:\n\u001b[0;32m      <a href='vscode-notebook-cell:/c%3A/Users/b9066009/Documents/PhD/conferences/2022_GISRUK/gisruk_2022/notebooks/shortest_path.ipynb#ch0000018?line=3'>4</a>\u001b[0m     \u001b[39mfor\u001b[39;00m d \u001b[39min\u001b[39;00m dests_nodes:\n\u001b[1;32m----> <a href='vscode-notebook-cell:/c%3A/Users/b9066009/Documents/PhD/conferences/2022_GISRUK/gisruk_2022/notebooks/shortest_path.ipynb#ch0000018?line=4'>5</a>\u001b[0m         route \u001b[39m=\u001b[39m walk_streets_pdna\u001b[39m.\u001b[39;49mshortest_path(o,d)\n\u001b[0;32m      <a href='vscode-notebook-cell:/c%3A/Users/b9066009/Documents/PhD/conferences/2022_GISRUK/gisruk_2022/notebooks/shortest_path.ipynb#ch0000018?line=5'>6</a>\u001b[0m         routes\u001b[39m.\u001b[39mappend(route)\n",
      "File \u001b[1;32m~\\Anaconda3\\envs\\geo_env\\lib\\site-packages\\pandana\\network.py:191\u001b[0m, in \u001b[0;36mNetwork.shortest_path\u001b[1;34m(self, node_a, node_b, imp_name)\u001b[0m\n\u001b[0;32m    <a href='file:///c%3A/Users/b9066009/Anaconda3/envs/geo_env/lib/site-packages/pandana/network.py?line=170'>171</a>\u001b[0m \u001b[39m\"\"\"\u001b[39;00m\n\u001b[0;32m    <a href='file:///c%3A/Users/b9066009/Anaconda3/envs/geo_env/lib/site-packages/pandana/network.py?line=171'>172</a>\u001b[0m \u001b[39mReturn the shortest path between two node ids in the network. Must\u001b[39;00m\n\u001b[0;32m    <a href='file:///c%3A/Users/b9066009/Anaconda3/envs/geo_env/lib/site-packages/pandana/network.py?line=172'>173</a>\u001b[0m \u001b[39mprovide an impedance name if more than one is available.\u001b[39;00m\n\u001b[1;32m   (...)\u001b[0m\n\u001b[0;32m    <a href='file:///c%3A/Users/b9066009/Anaconda3/envs/geo_env/lib/site-packages/pandana/network.py?line=187'>188</a>\u001b[0m \n\u001b[0;32m    <a href='file:///c%3A/Users/b9066009/Anaconda3/envs/geo_env/lib/site-packages/pandana/network.py?line=188'>189</a>\u001b[0m \u001b[39m\"\"\"\u001b[39;00m\n\u001b[0;32m    <a href='file:///c%3A/Users/b9066009/Anaconda3/envs/geo_env/lib/site-packages/pandana/network.py?line=189'>190</a>\u001b[0m \u001b[39m# map to internal node indexes\u001b[39;00m\n\u001b[1;32m--> <a href='file:///c%3A/Users/b9066009/Anaconda3/envs/geo_env/lib/site-packages/pandana/network.py?line=190'>191</a>\u001b[0m node_idx \u001b[39m=\u001b[39m \u001b[39mself\u001b[39;49m\u001b[39m.\u001b[39;49m_node_indexes(pd\u001b[39m.\u001b[39;49mSeries([node_a, node_b]))\n\u001b[0;32m    <a href='file:///c%3A/Users/b9066009/Anaconda3/envs/geo_env/lib/site-packages/pandana/network.py?line=191'>192</a>\u001b[0m node_a \u001b[39m=\u001b[39m node_idx\u001b[39m.\u001b[39miloc[\u001b[39m0\u001b[39m]\n\u001b[0;32m    <a href='file:///c%3A/Users/b9066009/Anaconda3/envs/geo_env/lib/site-packages/pandana/network.py?line=192'>193</a>\u001b[0m node_b \u001b[39m=\u001b[39m node_idx\u001b[39m.\u001b[39miloc[\u001b[39m1\u001b[39m]\n",
      "File \u001b[1;32m~\\Anaconda3\\envs\\geo_env\\lib\\site-packages\\pandana\\network.py:140\u001b[0m, in \u001b[0;36mNetwork._node_indexes\u001b[1;34m(self, node_ids)\u001b[0m\n\u001b[0;32m    <a href='file:///c%3A/Users/b9066009/Anaconda3/envs/geo_env/lib/site-packages/pandana/network.py?line=137'>138</a>\u001b[0m \u001b[39mdef\u001b[39;00m \u001b[39m_node_indexes\u001b[39m(\u001b[39mself\u001b[39m, node_ids):\n\u001b[0;32m    <a href='file:///c%3A/Users/b9066009/Anaconda3/envs/geo_env/lib/site-packages/pandana/network.py?line=138'>139</a>\u001b[0m     \u001b[39m# for some reason, merge is must faster than .loc\u001b[39;00m\n\u001b[1;32m--> <a href='file:///c%3A/Users/b9066009/Anaconda3/envs/geo_env/lib/site-packages/pandana/network.py?line=139'>140</a>\u001b[0m     df \u001b[39m=\u001b[39m pd\u001b[39m.\u001b[39;49mmerge(pd\u001b[39m.\u001b[39;49mDataFrame({\u001b[39m\"\u001b[39;49m\u001b[39mnode_ids\u001b[39;49m\u001b[39m\"\u001b[39;49m: node_ids}),\n\u001b[0;32m    <a href='file:///c%3A/Users/b9066009/Anaconda3/envs/geo_env/lib/site-packages/pandana/network.py?line=140'>141</a>\u001b[0m                   pd\u001b[39m.\u001b[39;49mDataFrame({\u001b[39m\"\u001b[39;49m\u001b[39mnode_idx\u001b[39;49m\u001b[39m\"\u001b[39;49m: \u001b[39mself\u001b[39;49m\u001b[39m.\u001b[39;49mnode_idx}),\n\u001b[0;32m    <a href='file:///c%3A/Users/b9066009/Anaconda3/envs/geo_env/lib/site-packages/pandana/network.py?line=141'>142</a>\u001b[0m                   left_on\u001b[39m=\u001b[39;49m\u001b[39m\"\u001b[39;49m\u001b[39mnode_ids\u001b[39;49m\u001b[39m\"\u001b[39;49m,\n\u001b[0;32m    <a href='file:///c%3A/Users/b9066009/Anaconda3/envs/geo_env/lib/site-packages/pandana/network.py?line=142'>143</a>\u001b[0m                   right_index\u001b[39m=\u001b[39;49m\u001b[39mTrue\u001b[39;49;00m,\n\u001b[0;32m    <a href='file:///c%3A/Users/b9066009/Anaconda3/envs/geo_env/lib/site-packages/pandana/network.py?line=143'>144</a>\u001b[0m                   how\u001b[39m=\u001b[39;49m\u001b[39m\"\u001b[39;49m\u001b[39mleft\u001b[39;49m\u001b[39m\"\u001b[39;49m)\n\u001b[0;32m    <a href='file:///c%3A/Users/b9066009/Anaconda3/envs/geo_env/lib/site-packages/pandana/network.py?line=144'>145</a>\u001b[0m     \u001b[39mreturn\u001b[39;00m df\u001b[39m.\u001b[39mnode_idx\n",
      "File \u001b[1;32m~\\Anaconda3\\envs\\geo_env\\lib\\site-packages\\pandas\\core\\reshape\\merge.py:121\u001b[0m, in \u001b[0;36mmerge\u001b[1;34m(left, right, how, on, left_on, right_on, left_index, right_index, sort, suffixes, copy, indicator, validate)\u001b[0m\n\u001b[0;32m     <a href='file:///c%3A/Users/b9066009/Anaconda3/envs/geo_env/lib/site-packages/pandas/core/reshape/merge.py?line=88'>89</a>\u001b[0m \u001b[39m@Substitution\u001b[39m(\u001b[39m\"\u001b[39m\u001b[39m\\n\u001b[39;00m\u001b[39mleft : DataFrame or named Series\u001b[39m\u001b[39m\"\u001b[39m)\n\u001b[0;32m     <a href='file:///c%3A/Users/b9066009/Anaconda3/envs/geo_env/lib/site-packages/pandas/core/reshape/merge.py?line=89'>90</a>\u001b[0m \u001b[39m@Appender\u001b[39m(_merge_doc, indents\u001b[39m=\u001b[39m\u001b[39m0\u001b[39m)\n\u001b[0;32m     <a href='file:///c%3A/Users/b9066009/Anaconda3/envs/geo_env/lib/site-packages/pandas/core/reshape/merge.py?line=90'>91</a>\u001b[0m \u001b[39mdef\u001b[39;00m \u001b[39mmerge\u001b[39m(\n\u001b[1;32m   (...)\u001b[0m\n\u001b[0;32m    <a href='file:///c%3A/Users/b9066009/Anaconda3/envs/geo_env/lib/site-packages/pandas/core/reshape/merge.py?line=103'>104</a>\u001b[0m     validate: \u001b[39mstr\u001b[39m \u001b[39m|\u001b[39m \u001b[39mNone\u001b[39;00m \u001b[39m=\u001b[39m \u001b[39mNone\u001b[39;00m,\n\u001b[0;32m    <a href='file:///c%3A/Users/b9066009/Anaconda3/envs/geo_env/lib/site-packages/pandas/core/reshape/merge.py?line=104'>105</a>\u001b[0m ) \u001b[39m-\u001b[39m\u001b[39m>\u001b[39m DataFrame:\n\u001b[0;32m    <a href='file:///c%3A/Users/b9066009/Anaconda3/envs/geo_env/lib/site-packages/pandas/core/reshape/merge.py?line=105'>106</a>\u001b[0m     op \u001b[39m=\u001b[39m _MergeOperation(\n\u001b[0;32m    <a href='file:///c%3A/Users/b9066009/Anaconda3/envs/geo_env/lib/site-packages/pandas/core/reshape/merge.py?line=106'>107</a>\u001b[0m         left,\n\u001b[0;32m    <a href='file:///c%3A/Users/b9066009/Anaconda3/envs/geo_env/lib/site-packages/pandas/core/reshape/merge.py?line=107'>108</a>\u001b[0m         right,\n\u001b[1;32m   (...)\u001b[0m\n\u001b[0;32m    <a href='file:///c%3A/Users/b9066009/Anaconda3/envs/geo_env/lib/site-packages/pandas/core/reshape/merge.py?line=118'>119</a>\u001b[0m         validate\u001b[39m=\u001b[39mvalidate,\n\u001b[0;32m    <a href='file:///c%3A/Users/b9066009/Anaconda3/envs/geo_env/lib/site-packages/pandas/core/reshape/merge.py?line=119'>120</a>\u001b[0m     )\n\u001b[1;32m--> <a href='file:///c%3A/Users/b9066009/Anaconda3/envs/geo_env/lib/site-packages/pandas/core/reshape/merge.py?line=120'>121</a>\u001b[0m     \u001b[39mreturn\u001b[39;00m op\u001b[39m.\u001b[39;49mget_result()\n",
      "File \u001b[1;32m~\\Anaconda3\\envs\\geo_env\\lib\\site-packages\\pandas\\core\\reshape\\merge.py:715\u001b[0m, in \u001b[0;36m_MergeOperation.get_result\u001b[1;34m(self)\u001b[0m\n\u001b[0;32m    <a href='file:///c%3A/Users/b9066009/Anaconda3/envs/geo_env/lib/site-packages/pandas/core/reshape/merge.py?line=711'>712</a>\u001b[0m \u001b[39mif\u001b[39;00m \u001b[39mself\u001b[39m\u001b[39m.\u001b[39mindicator:\n\u001b[0;32m    <a href='file:///c%3A/Users/b9066009/Anaconda3/envs/geo_env/lib/site-packages/pandas/core/reshape/merge.py?line=712'>713</a>\u001b[0m     \u001b[39mself\u001b[39m\u001b[39m.\u001b[39mleft, \u001b[39mself\u001b[39m\u001b[39m.\u001b[39mright \u001b[39m=\u001b[39m \u001b[39mself\u001b[39m\u001b[39m.\u001b[39m_indicator_pre_merge(\u001b[39mself\u001b[39m\u001b[39m.\u001b[39mleft, \u001b[39mself\u001b[39m\u001b[39m.\u001b[39mright)\n\u001b[1;32m--> <a href='file:///c%3A/Users/b9066009/Anaconda3/envs/geo_env/lib/site-packages/pandas/core/reshape/merge.py?line=714'>715</a>\u001b[0m join_index, left_indexer, right_indexer \u001b[39m=\u001b[39m \u001b[39mself\u001b[39;49m\u001b[39m.\u001b[39;49m_get_join_info()\n\u001b[0;32m    <a href='file:///c%3A/Users/b9066009/Anaconda3/envs/geo_env/lib/site-packages/pandas/core/reshape/merge.py?line=716'>717</a>\u001b[0m llabels, rlabels \u001b[39m=\u001b[39m _items_overlap_with_suffix(\n\u001b[0;32m    <a href='file:///c%3A/Users/b9066009/Anaconda3/envs/geo_env/lib/site-packages/pandas/core/reshape/merge.py?line=717'>718</a>\u001b[0m     \u001b[39mself\u001b[39m\u001b[39m.\u001b[39mleft\u001b[39m.\u001b[39m_info_axis, \u001b[39mself\u001b[39m\u001b[39m.\u001b[39mright\u001b[39m.\u001b[39m_info_axis, \u001b[39mself\u001b[39m\u001b[39m.\u001b[39msuffixes\n\u001b[0;32m    <a href='file:///c%3A/Users/b9066009/Anaconda3/envs/geo_env/lib/site-packages/pandas/core/reshape/merge.py?line=718'>719</a>\u001b[0m )\n\u001b[0;32m    <a href='file:///c%3A/Users/b9066009/Anaconda3/envs/geo_env/lib/site-packages/pandas/core/reshape/merge.py?line=720'>721</a>\u001b[0m lindexers \u001b[39m=\u001b[39m {\u001b[39m1\u001b[39m: left_indexer} \u001b[39mif\u001b[39;00m left_indexer \u001b[39mis\u001b[39;00m \u001b[39mnot\u001b[39;00m \u001b[39mNone\u001b[39;00m \u001b[39melse\u001b[39;00m {}\n",
      "File \u001b[1;32m~\\Anaconda3\\envs\\geo_env\\lib\\site-packages\\pandas\\core\\reshape\\merge.py:957\u001b[0m, in \u001b[0;36m_MergeOperation._get_join_info\u001b[1;34m(self)\u001b[0m\n\u001b[0;32m    <a href='file:///c%3A/Users/b9066009/Anaconda3/envs/geo_env/lib/site-packages/pandas/core/reshape/merge.py?line=951'>952</a>\u001b[0m     join_index, left_indexer, right_indexer \u001b[39m=\u001b[39m left_ax\u001b[39m.\u001b[39mjoin(\n\u001b[0;32m    <a href='file:///c%3A/Users/b9066009/Anaconda3/envs/geo_env/lib/site-packages/pandas/core/reshape/merge.py?line=952'>953</a>\u001b[0m         right_ax, how\u001b[39m=\u001b[39m\u001b[39mself\u001b[39m\u001b[39m.\u001b[39mhow, return_indexers\u001b[39m=\u001b[39m\u001b[39mTrue\u001b[39;00m, sort\u001b[39m=\u001b[39m\u001b[39mself\u001b[39m\u001b[39m.\u001b[39msort\n\u001b[0;32m    <a href='file:///c%3A/Users/b9066009/Anaconda3/envs/geo_env/lib/site-packages/pandas/core/reshape/merge.py?line=953'>954</a>\u001b[0m     )\n\u001b[0;32m    <a href='file:///c%3A/Users/b9066009/Anaconda3/envs/geo_env/lib/site-packages/pandas/core/reshape/merge.py?line=955'>956</a>\u001b[0m \u001b[39melif\u001b[39;00m \u001b[39mself\u001b[39m\u001b[39m.\u001b[39mright_index \u001b[39mand\u001b[39;00m \u001b[39mself\u001b[39m\u001b[39m.\u001b[39mhow \u001b[39m==\u001b[39m \u001b[39m\"\u001b[39m\u001b[39mleft\u001b[39m\u001b[39m\"\u001b[39m:\n\u001b[1;32m--> <a href='file:///c%3A/Users/b9066009/Anaconda3/envs/geo_env/lib/site-packages/pandas/core/reshape/merge.py?line=956'>957</a>\u001b[0m     join_index, left_indexer, right_indexer \u001b[39m=\u001b[39m _left_join_on_index(\n\u001b[0;32m    <a href='file:///c%3A/Users/b9066009/Anaconda3/envs/geo_env/lib/site-packages/pandas/core/reshape/merge.py?line=957'>958</a>\u001b[0m         left_ax, right_ax, \u001b[39mself\u001b[39;49m\u001b[39m.\u001b[39;49mleft_join_keys, sort\u001b[39m=\u001b[39;49m\u001b[39mself\u001b[39;49m\u001b[39m.\u001b[39;49msort\n\u001b[0;32m    <a href='file:///c%3A/Users/b9066009/Anaconda3/envs/geo_env/lib/site-packages/pandas/core/reshape/merge.py?line=958'>959</a>\u001b[0m     )\n\u001b[0;32m    <a href='file:///c%3A/Users/b9066009/Anaconda3/envs/geo_env/lib/site-packages/pandas/core/reshape/merge.py?line=960'>961</a>\u001b[0m \u001b[39melif\u001b[39;00m \u001b[39mself\u001b[39m\u001b[39m.\u001b[39mleft_index \u001b[39mand\u001b[39;00m \u001b[39mself\u001b[39m\u001b[39m.\u001b[39mhow \u001b[39m==\u001b[39m \u001b[39m\"\u001b[39m\u001b[39mright\u001b[39m\u001b[39m\"\u001b[39m:\n\u001b[0;32m    <a href='file:///c%3A/Users/b9066009/Anaconda3/envs/geo_env/lib/site-packages/pandas/core/reshape/merge.py?line=961'>962</a>\u001b[0m     join_index, right_indexer, left_indexer \u001b[39m=\u001b[39m _left_join_on_index(\n\u001b[0;32m    <a href='file:///c%3A/Users/b9066009/Anaconda3/envs/geo_env/lib/site-packages/pandas/core/reshape/merge.py?line=962'>963</a>\u001b[0m         right_ax, left_ax, \u001b[39mself\u001b[39m\u001b[39m.\u001b[39mright_join_keys, sort\u001b[39m=\u001b[39m\u001b[39mself\u001b[39m\u001b[39m.\u001b[39msort\n\u001b[0;32m    <a href='file:///c%3A/Users/b9066009/Anaconda3/envs/geo_env/lib/site-packages/pandas/core/reshape/merge.py?line=963'>964</a>\u001b[0m     )\n",
      "File \u001b[1;32m~\\Anaconda3\\envs\\geo_env\\lib\\site-packages\\pandas\\core\\reshape\\merge.py:2065\u001b[0m, in \u001b[0;36m_left_join_on_index\u001b[1;34m(left_ax, right_ax, join_keys, sort)\u001b[0m\n\u001b[0;32m   <a href='file:///c%3A/Users/b9066009/Anaconda3/envs/geo_env/lib/site-packages/pandas/core/reshape/merge.py?line=2061'>2062</a>\u001b[0m \u001b[39melse\u001b[39;00m:\n\u001b[0;32m   <a href='file:///c%3A/Users/b9066009/Anaconda3/envs/geo_env/lib/site-packages/pandas/core/reshape/merge.py?line=2062'>2063</a>\u001b[0m     jkey \u001b[39m=\u001b[39m join_keys[\u001b[39m0\u001b[39m]\n\u001b[1;32m-> <a href='file:///c%3A/Users/b9066009/Anaconda3/envs/geo_env/lib/site-packages/pandas/core/reshape/merge.py?line=2064'>2065</a>\u001b[0m     left_indexer, right_indexer \u001b[39m=\u001b[39m _get_single_indexer(jkey, right_ax, sort\u001b[39m=\u001b[39;49msort)\n\u001b[0;32m   <a href='file:///c%3A/Users/b9066009/Anaconda3/envs/geo_env/lib/site-packages/pandas/core/reshape/merge.py?line=2066'>2067</a>\u001b[0m \u001b[39mif\u001b[39;00m sort \u001b[39mor\u001b[39;00m \u001b[39mlen\u001b[39m(left_ax) \u001b[39m!=\u001b[39m \u001b[39mlen\u001b[39m(left_indexer):\n\u001b[0;32m   <a href='file:///c%3A/Users/b9066009/Anaconda3/envs/geo_env/lib/site-packages/pandas/core/reshape/merge.py?line=2067'>2068</a>\u001b[0m     \u001b[39m# if asked to sort or there are 1-to-many matches\u001b[39;00m\n\u001b[0;32m   <a href='file:///c%3A/Users/b9066009/Anaconda3/envs/geo_env/lib/site-packages/pandas/core/reshape/merge.py?line=2068'>2069</a>\u001b[0m     join_index \u001b[39m=\u001b[39m left_ax\u001b[39m.\u001b[39mtake(left_indexer)\n",
      "File \u001b[1;32m~\\Anaconda3\\envs\\geo_env\\lib\\site-packages\\pandas\\core\\reshape\\merge.py:2042\u001b[0m, in \u001b[0;36m_get_single_indexer\u001b[1;34m(join_key, index, sort)\u001b[0m\n\u001b[0;32m   <a href='file:///c%3A/Users/b9066009/Anaconda3/envs/geo_env/lib/site-packages/pandas/core/reshape/merge.py?line=2035'>2036</a>\u001b[0m \u001b[39mdef\u001b[39;00m \u001b[39m_get_single_indexer\u001b[39m(\n\u001b[0;32m   <a href='file:///c%3A/Users/b9066009/Anaconda3/envs/geo_env/lib/site-packages/pandas/core/reshape/merge.py?line=2036'>2037</a>\u001b[0m     join_key, index: Index, sort: \u001b[39mbool\u001b[39m \u001b[39m=\u001b[39m \u001b[39mFalse\u001b[39;00m\n\u001b[0;32m   <a href='file:///c%3A/Users/b9066009/Anaconda3/envs/geo_env/lib/site-packages/pandas/core/reshape/merge.py?line=2037'>2038</a>\u001b[0m ) \u001b[39m-\u001b[39m\u001b[39m>\u001b[39m \u001b[39mtuple\u001b[39m[np\u001b[39m.\u001b[39mndarray, np\u001b[39m.\u001b[39mndarray]:\n\u001b[0;32m   <a href='file:///c%3A/Users/b9066009/Anaconda3/envs/geo_env/lib/site-packages/pandas/core/reshape/merge.py?line=2038'>2039</a>\u001b[0m     \u001b[39m# Both returned ndarrays are np.intp\u001b[39;00m\n\u001b[0;32m   <a href='file:///c%3A/Users/b9066009/Anaconda3/envs/geo_env/lib/site-packages/pandas/core/reshape/merge.py?line=2039'>2040</a>\u001b[0m     left_key, right_key, count \u001b[39m=\u001b[39m _factorize_keys(join_key, index\u001b[39m.\u001b[39m_values, sort\u001b[39m=\u001b[39msort)\n\u001b[1;32m-> <a href='file:///c%3A/Users/b9066009/Anaconda3/envs/geo_env/lib/site-packages/pandas/core/reshape/merge.py?line=2041'>2042</a>\u001b[0m     \u001b[39mreturn\u001b[39;00m libjoin\u001b[39m.\u001b[39;49mleft_outer_join(left_key, right_key, count, sort\u001b[39m=\u001b[39;49msort)\n",
      "\u001b[1;31mKeyboardInterrupt\u001b[0m: "
     ]
    }
   ],
   "source": [
    "%time\n",
    "routes = []\n",
    "for o in origs_nodes:\n",
    "    for d in dests_nodes:\n",
    "        route = walk_streets_pdna.shortest_path(o,d)\n",
    "        routes.append(route)"
   ]
  },
  {
   "cell_type": "code",
   "execution_count": 25,
   "metadata": {},
   "outputs": [
    {
     "data": {
      "text/plain": [
       "array([41662, 25605, 25591, 25586, 25585, 25587, 27741, 27742, 26387,\n",
       "       26385, 26388, 25343, 23808, 23803, 23809, 39272, 39274, 39257,\n",
       "       39258, 39251, 39250, 39249, 32523, 25340, 25335, 25332, 25333,\n",
       "       25339, 32492, 32489, 32488, 32473, 25330, 25326, 25324, 25315,\n",
       "       25313, 25314, 25412, 25411, 25410, 25414, 31118, 31123, 25285,\n",
       "       25284, 25283, 25264, 31119, 25260, 25254, 25261, 25232, 25230,\n",
       "       25231, 25233, 31144, 31148, 31163, 25384, 25380, 25378, 25379,\n",
       "       25381, 25389, 27338, 27337, 27341, 27368, 27369, 25189, 25184,\n",
       "       25185, 25186, 30608, 30605, 30604, 25180, 25174, 25175, 25176,\n",
       "       30578, 30579, 30504, 30563, 30562, 23327, 23326, 23328, 28299,\n",
       "       23324, 23321, 23317, 23318, 23312, 23310, 23305, 23303, 23304,\n",
       "       23307, 32141, 27306, 27305, 27304, 27303, 23295, 23290, 23291,\n",
       "       23292, 24911, 24912, 24584,  2670,  1968,  2671,  2677,  1977,\n",
       "         107,   108,   109,  3108,  3109,  3110,   105,   104,    99,\n",
       "          98,    97,   103,  1989,  1990,  1992,  2769,  2766,  2765,\n",
       "        2762,  2760,  2757,  2756,  2465,  2463,  2464,  2751,  2452,\n",
       "        2449,  2451,  2506,  2508,  2510,  2514,  1331,  1326,  1325,\n",
       "        1327,  1335,    92,    84], dtype=int64)"
      ]
     },
     "execution_count": 25,
     "metadata": {},
     "output_type": "execute_result"
    }
   ],
   "source": [
    "walk_streets_pdna.shortest_path(origs_nodes[1], dests_nodes[1])"
   ]
  },
  {
   "cell_type": "code",
   "execution_count": null,
   "metadata": {},
   "outputs": [],
   "source": []
  },
  {
   "cell_type": "code",
   "execution_count": null,
   "metadata": {},
   "outputs": [],
   "source": []
  },
  {
   "cell_type": "code",
   "execution_count": null,
   "metadata": {},
   "outputs": [],
   "source": []
  },
  {
   "cell_type": "code",
   "execution_count": null,
   "metadata": {},
   "outputs": [],
   "source": []
  }
 ],
 "metadata": {
  "interpreter": {
   "hash": "2a7913380434440500b3a7a8bb59ce79565211312a902ea3344fc18e17234406"
  },
  "kernelspec": {
   "display_name": "Python 3.10.2",
   "language": "python",
   "name": "python3"
  },
  "language_info": {
   "codemirror_mode": {
    "name": "ipython",
    "version": 3
   },
   "file_extension": ".py",
   "mimetype": "text/x-python",
   "name": "python",
   "nbconvert_exporter": "python",
   "pygments_lexer": "ipython3",
   "version": "3.10.2"
  },
  "orig_nbformat": 4
 },
 "nbformat": 4,
 "nbformat_minor": 2
}
