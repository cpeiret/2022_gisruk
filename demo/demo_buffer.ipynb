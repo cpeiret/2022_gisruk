{
 "cells": [
  {
   "cell_type": "code",
   "execution_count": 34,
   "metadata": {},
   "outputs": [],
   "source": [
    "# import packages\n",
    "import geopandas as gpd\n",
    "import osmnx as ox\n",
    "import momepy\n",
    "import pandana as pdna\n",
    "import pandas as pd\n",
    "import numpy as np\n",
    "import networkx as nx\n",
    "\n",
    "from scipy.spatial import cKDTree\n",
    "from shapely.geometry import Point\n",
    "\n",
    "from shapely.geometry import box"
   ]
  },
  {
   "cell_type": "code",
   "execution_count": 35,
   "metadata": {},
   "outputs": [],
   "source": [
    "## load data\n",
    "\n",
    "# load geopackages\n",
    "pois = gpd.read_file('C:/Users/b9066009/Documents/PhD/conferences/2022_GISRUK/gisruk_2022/pois_buffer.gpkg')\n",
    "postcodes = gpd.read_file('C:/Users/b9066009/Documents/PhD/conferences/2022_GISRUK/gisruk_2022/codepoints.gpkg')\n",
    "\n",
    "# load streets from OSM\n",
    "walk_graph = ox.graph_from_bbox(north=53.5093, south=53.3186,east=-2.8015,west=-3.0638, network_type = 'walk') # download walking network"
   ]
  },
  {
   "cell_type": "code",
   "execution_count": 36,
   "metadata": {},
   "outputs": [
    {
     "name": "stderr",
     "output_type": "stream",
     "text": [
      "C:\\Users\\b9066009\\AppData\\Local\\Temp\\ipykernel_14764\\1478089765.py:11: FutureWarning: Currently, index_parts defaults to True, but in the future, it will default to False to be consistent with Pandas. Use `index_parts=True` to keep the current behavior and True/False to silence the warning.\n",
      "  postcodes = postcodes.reset_index(drop=True).explode().reset_index(drop=True) # clean\n",
      "C:\\Users\\b9066009\\AppData\\Local\\Temp\\ipykernel_14764\\1478089765.py:16: FutureWarning: Currently, index_parts defaults to True, but in the future, it will default to False to be consistent with Pandas. Use `index_parts=True` to keep the current behavior and True/False to silence the warning.\n",
      "  pois = pois.reset_index(drop=True).explode().reset_index(drop=True) # avoid multipart pois\n"
     ]
    }
   ],
   "source": [
    "## clean data\n",
    "\n",
    "# streets\n",
    "walk_graph = ox.get_undirected(walk_graph) # cleans the network keeping parallel edges only if geometry is different\n",
    "walk_graph = ox.projection.project_graph(walk_graph) # project graph\n",
    "walk_streets = ox.graph_to_gdfs(walk_graph, nodes=False, edges=True, node_geometry=False, fill_edge_geometry=True) # convert graph to gdf\n",
    "walk_streets = walk_streets[[\"geometry\", \"from\", \"to\", \"length\"]] # clean columns\n",
    "walk_streets = walk_streets.to_crs(27700) # set crs\n",
    "\n",
    "# postcodes\n",
    "postcodes = postcodes.reset_index(drop=True).explode().reset_index(drop=True) # clean\n",
    "postcodes['postcodeID'] = range(0,len(postcodes)) # generate index column\n",
    "postcodes = postcodes.set_index('postcodeID') # set index\n",
    "\n",
    "# pois\n",
    "pois = pois.reset_index(drop=True).explode().reset_index(drop=True) # avoid multipart pois\n",
    "\n",
    "amenities = ['Bakeries','Butchers','Confectioners','Delicatessens','Fishmongers','Grocers, Farm Shops and Pick Your Own','Convenience Stores and Independent Supermarkets','Supermarket Chains',\n",
    "             'Bus Stops','Railway Stations, Junctions and Halts',\n",
    "             'Gymnasiums, Sports Halls and Leisure Centres','Sport and Entertainment'\n",
    "             'Higher Education Establishments','First, Primary and Infant Schools','Broad Age Range and Secondary State Schools',\n",
    "             'Doctors Surgeries','Hospitals','Chemists and Pharmacies',\n",
    "             'Cinemas','Theatres and Concert Halls','Art Galleries'] # select which amenities to keep\n",
    "pois_filtered = pois[pois.classname.isin(amenities)] # filter amenities\n",
    "pois_filtered = pois_filtered[['groupname','categoryname','classname','geometry']] # clean columns\n",
    "pois_filtered['poiID'] = range(0,len(pois_filtered)) # generate index column\n",
    "pois_filtered = pois_filtered.set_index('poiID') # set index column"
   ]
  },
  {
   "cell_type": "code",
   "execution_count": 37,
   "metadata": {},
   "outputs": [
    {
     "name": "stderr",
     "output_type": "stream",
     "text": [
      "C:\\Users\\b9066009\\AppData\\Local\\Temp\\ipykernel_14764\\1581756382.py:5: FutureWarning: Currently, index_parts defaults to True, but in the future, it will default to False to be consistent with Pandas. Use `index_parts=True` to keep the current behavior and True/False to silence the warning.\n",
      "  walk_streets.explode() # remove multipart rows\n"
     ]
    }
   ],
   "source": [
    "## generate pandana network\n",
    "# nodes and edges for walk network\n",
    "nodes_walk, edges_walk = momepy.nx_to_gdf( # convert network to gdf\n",
    "    momepy.gdf_to_nx( # convert to nx graph\n",
    "        walk_streets.explode() # remove multipart rows\n",
    "    )\n",
    ")\n",
    "nodes_walk = nodes_walk.set_index('nodeID') # set index\n",
    "\n",
    "# generate walk pandana network\n",
    "walk_streets_pdna = pdna.Network( \n",
    "    nodes_walk.geometry.x,\n",
    "    nodes_walk.geometry.y,\n",
    "    edges_walk['node_start'], # set origins\n",
    "    edges_walk['node_end'], # set destinations\n",
    "    edges_walk[['mm_len']] # set edge length\n",
    ")"
   ]
  },
  {
   "cell_type": "code",
   "execution_count": 38,
   "metadata": {},
   "outputs": [],
   "source": [
    "# attach pois to the network\n",
    "walk_streets_pdna.set_pois( # snap pois to network\n",
    "    category = 'pois', # set name of the new layer snapped on the network\n",
    "    maxdist = 1200, # set maximum distance\n",
    "    maxitems = 700, # set maximum number of pois to look for\n",
    "    x_col = pois_filtered.geometry.x,\n",
    "    y_col = pois_filtered.geometry.y\n",
    ")"
   ]
  },
  {
   "cell_type": "code",
   "execution_count": 39,
   "metadata": {},
   "outputs": [],
   "source": [
    "results = walk_streets_pdna.nearest_pois( # calculate distances to pois\n",
    "    distance = 1200, # maximum distance\n",
    "    category = 'pois', # layer where we want to look for\n",
    "    num_pois = 700, # max number of pois to look for\n",
    "    include_poi_ids = True # include pois ids\n",
    ")"
   ]
  },
  {
   "cell_type": "code",
   "execution_count": 40,
   "metadata": {},
   "outputs": [],
   "source": [
    "# store results separately as distances and poiIDs\n",
    "\n",
    "# separate distances from poi ids\n",
    "distances = results.iloc[:,:round(len(results.columns)/2,)] # create df with distances\n",
    "pois_ids = results.iloc[:,round(len(results.columns)/2,):] # create df with pois ids\n",
    "\n",
    "# convert wide matrices to long\n",
    "distances_long = pd.melt(distances.reset_index(), id_vars='nodeID',value_name='distance') # make matrix long\n",
    "pois_ids_long = pd.melt(pois_ids.reset_index(), id_vars='nodeID',value_name='poiID') # make matrix long\n",
    "\n",
    "# create an od long df containing nodeID, distance, and poiID\n",
    "od = distances_long\n",
    "od['poiID'] = pois_ids_long['poiID'].astype('Int64') # set a column with pois ids (as they are indexed, they are already in the right order)\n",
    "\n",
    "# format od matrix and drop NAs\n",
    "od = od[['nodeID','poiID','distance']] # clean columns\n",
    "od = od.dropna() # drop NAs "
   ]
  },
  {
   "cell_type": "code",
   "execution_count": 41,
   "metadata": {},
   "outputs": [],
   "source": [
    "# merge od data with POIs data\n",
    "pois_filtered = pois_filtered.reset_index() # reset index pois df\n",
    "od_pois_info = pd.merge(od, pois_filtered[['groupname','categoryname','classname','poiID']].reset_index(), left_on='poiID', right_on='poiID') # merge pois info to od matrix"
   ]
  },
  {
   "cell_type": "code",
   "execution_count": 42,
   "metadata": {},
   "outputs": [],
   "source": [
    "# add postcode information to the od_pois_info \n",
    "postcodes_nodes = walk_streets_pdna.get_node_ids( # get nearest street nodes to each postcode\n",
    "    postcodes.geometry.x,\n",
    "    postcodes.geometry.y\n",
    ")\n",
    "postcodes_nodes = pd.DataFrame(postcodes_nodes).reset_index() # reset index\n",
    "postcodes_nodes = postcodes_nodes.rename(columns={'node_id':'nodeID'}) # change col names\n",
    "\n",
    "# add postcodes to od_pois_info\n",
    "od_pois_info = pd.merge(od_pois_info, postcodes_nodes, left_on='nodeID', right_on='nodeID') # add postcodes to od matrix"
   ]
  },
  {
   "cell_type": "code",
   "execution_count": 43,
   "metadata": {},
   "outputs": [],
   "source": [
    "od_pois_info.to_csv('C:/Users/b9066009/Documents/PhD/conferences/2022_GISRUK/gisruk_2022/od_pois_buffer.csv', index=False)"
   ]
  }
 ],
 "metadata": {
  "interpreter": {
   "hash": "2a7913380434440500b3a7a8bb59ce79565211312a902ea3344fc18e17234406"
  },
  "kernelspec": {
   "display_name": "Python 3.10.2",
   "language": "python",
   "name": "python3"
  },
  "language_info": {
   "codemirror_mode": {
    "name": "ipython",
    "version": 3
   },
   "file_extension": ".py",
   "mimetype": "text/x-python",
   "name": "python",
   "nbconvert_exporter": "python",
   "pygments_lexer": "ipython3",
   "version": "3.10.2"
  },
  "orig_nbformat": 4
 },
 "nbformat": 4,
 "nbformat_minor": 2
}
